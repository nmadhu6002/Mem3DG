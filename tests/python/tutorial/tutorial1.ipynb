{
 "cells": [
  {
   "cell_type": "markdown",
   "metadata": {},
   "source": [
    "# PyMem3DG Tutorial 1 - The Very Basic\n",
    "`Cuncheng Zhu, Christopher T. Lee`\n",
    "\n",
    "This tutorial provides a brief example for setting up a membrane simulation using PyMem3DG. The extensive documentations is hosted at https://rangamanilabucsd.github.io/Mem3DG/."
   ]
  },
  {
   "cell_type": "code",
   "execution_count": 12,
   "metadata": {},
   "outputs": [],
   "source": [
    "import pymem3dg as dg"
   ]
  },
  {
   "cell_type": "markdown",
   "metadata": {},
   "source": [
    "## Mesh initialization\n",
    "PyMem3DG currently provide functions to generate simple meshes, as well as API to read $\\texttt{.ply}$ files. For example, we could generate icosphere for closed membrane simualation and existing meshes based on parametrized ellipsoids. "
   ]
  },
  {
   "cell_type": "code",
   "execution_count": 13,
   "metadata": {},
   "outputs": [],
   "source": [
    "icoFace, icoVertex = dg.getIcosphere(1, 3)\n",
    "oblate = \"../sample_meshes/oblate.ply\"\n",
    "prolate = \"../sample_meshes/prolate.ply\""
   ]
  },
  {
   "cell_type": "markdown",
   "metadata": {},
   "source": [
    "## Instantiate the $\\texttt{System}$:  $\\texttt{Parameters}$ and  $\\texttt{Options}$ \n",
    "\n",
    "Specification of the struct `Paramters` is largely user-defined. `Parameters` is the structured into sub-structs. For example, the parameters for bending of `Parameters p` is `p.bending`. Please refer to the documentation for detailed explanation of various entries. Below we shows the simulation setup for a homogeneous membrane undergoing osmotic shrinkage, which is a classic solution of the *shape equation* that results in the biconcave shape similar to the red blood cell. Because of the simplicity of the setup, we only specify essential physical quantities such as the bending rigidity, stretching modulus and bulk modulus, assuming the default  and omitting the majority of the parameters. \n",
    "\n",
    "The trajectory of the simulations will be solely determined by the initial condition (initial geometry) and parameters. In this tutorial, we will see how initial geometry affects the results. "
   ]
  },
  {
   "cell_type": "code",
   "execution_count": 14,
   "metadata": {},
   "outputs": [],
   "source": [
    "p = dg.Parameters()\n",
    "\n",
    "p.bending.Kbc = 8.22e-5\n",
    "p.tension.Ksg = 0.1\n",
    "p.tension.At = 12.4866\n",
    "p.osmotic.isPreferredVolume = True\n",
    "p.osmotic.Kv = 0.02\n",
    "p.osmotic.Vt = 0.7 * 3.14 * 4 / 3"
   ]
  },
  {
   "cell_type": "markdown",
   "metadata": {},
   "source": [
    "## Integration and optimization\n",
    "\n",
    "PyMem3DG provides various evolvers to integrate the membrane dynamics or find mechanical/chemical equalibrium as the energy minimizer. Please refer to the documentation for details and guidelines. For simplicity, the forward euler method, mathematically equivalent to steepest descent method for optimization is used to integrate the three systems. The following integration is pre-runned. Uncomment `integrate()` to rerun them.\n",
    "\n",
    "We first to integrate the oblate shape and we expect to form biconcave shape at the equalibrium. To visualize the result using polyscope, please refer to the documentation and a dedicated tutorial for visualization.\n"
   ]
  },
  {
   "cell_type": "code",
   "execution_count": 16,
   "metadata": {},
   "outputs": [
    {
     "name": "stdout",
     "output_type": "stream",
     "text": [
      "area_init = 12.4783\n",
      "vol_init = 4.02477\n",
      "Characteristic volume wrt to At = 4.14897\n"
     ]
    }
   ],
   "source": [
    "\n",
    "h = 1 # time step\n",
    "outputDir = \"output/tutorial1/biconcave\"\n",
    "g = dg.System(inputMesh = oblate, parameters = p)\n",
    "g.initialize()\n",
    "\n",
    "fe = dg.Euler(system = g, characteristicTimeStep = h, \n",
    "              totalTime = 2000 * h, savePeriod = 200 * h, \n",
    "              tolerance = 1e-5, outputDirectory = outputDir)\n",
    "fe.ifPrintToConsole = True\n",
    "fe.ifOutputTrajFile = True\n",
    "# fe.integrate() \n"
   ]
  },
  {
   "cell_type": "markdown",
   "metadata": {},
   "source": [
    "Getting ahead, we can use Polycope (https://polyscope.run/py/) to visualize the trajectory. The detail will be provide in Tutorial 4. PyMem3DG provides a wrapper function to inspect the trajectory,  "
   ]
  },
  {
   "cell_type": "code",
   "execution_count": 6,
   "metadata": {},
   "outputs": [
    {
     "name": "stdout",
     "output_type": "stream",
     "text": [
      "[polyscope] Backend: openGL3_glfw -- Loaded openGL version: 4.1 Metal - 76.3\n"
     ]
    },
    {
     "name": "stderr",
     "output_type": "stream",
     "text": [
      "GLFW emitted error: Cocoa: Failed to find service port for display\n",
      "GLFW emitted error: Cocoa: Failed to find service port for display\n"
     ]
    }
   ],
   "source": [
    "import pymem3dg.visual as dg_vis\n",
    "import polyscope as ps\n",
    "dg_vis.animate(outputDir+\"/traj.nc\", meanCurvature = True)\n",
    "ps.show()"
   ]
  },
  {
   "cell_type": "markdown",
   "metadata": {},
   "source": [
    "Similarly, we could have the same procedure with initial condition of prolate shape."
   ]
  },
  {
   "cell_type": "code",
   "execution_count": 7,
   "metadata": {},
   "outputs": [
    {
     "name": "stdout",
     "output_type": "stream",
     "text": [
      "area_init = 12.4777\n",
      "vol_init = 3.80903\n",
      "Characteristic volume wrt to At = 4.14897\n"
     ]
    }
   ],
   "source": [
    "outputDir=\"output/tutorial1/dumbbell\"\n",
    "g = dg.System(inputMesh = prolate, parameters = p)\n",
    "g.initialize()\n",
    "fe = dg.Euler(g, 1, 100000, 10000,\n",
    "                      1e-5, outputDir)\n",
    "fe.ifPrintToConsole = True\n",
    "fe.ifOutputTrajFile = True\n",
    "# fe.integrate()\n"
   ]
  },
  {
   "cell_type": "markdown",
   "metadata": {},
   "source": [
    "We can also do this on an generated icosphere. However, because of the symmetry of a icosphere, it appears that we need large osmotic pressure to kick start the deformation. To change the set up of $\\texttt{System}$, it is generally safer practice to reinstantiate a new $\\texttt{System}$ object. However, because of the simplicity of current setup, the rest of the system does not have complex dependency on attribute changes. Therefore we directly modify the underlying attribute $K_v$ and increase it by fivefold."
   ]
  },
  {
   "cell_type": "code",
   "execution_count": 8,
   "metadata": {},
   "outputs": [
    {
     "name": "stdout",
     "output_type": "stream",
     "text": [
      "area_init = "
     ]
    },
    {
     "name": "stderr",
     "output_type": "stream",
     "text": [
      "/Users/cuncheng/Dev/Mem3DG/python_src/pymem3dg/util.py:42: RuntimeWarning: divide by zero encountered in true_divide\n",
      "  phi = np.arctan(z/r) + np.pi / 2\n"
     ]
    },
    {
     "name": "stdout",
     "output_type": "stream",
     "text": [
      "12.6076\n",
      "vol_init = 4.15656\n",
      "Characteristic volume wrt to At = 4.14897\n"
     ]
    }
   ],
   "source": [
    "outputDir=\"output/tutorial1/star\"\n",
    "import pymem3dg.util as dg_util\n",
    "icoVertex = dg_util.sphericalHarmonicsPerturbation(icoVertex, 5, 6, 0.1)\n",
    "g = dg.System(icoFace, icoVertex, p)\n",
    "g.initialize()\n",
    "fe = dg.Euler(g, 0.1, 50000, 1000, 0, outputDir)\n",
    "fe.ifPrintToConsole = True\n",
    "fe.ifOutputTrajFile = True\n",
    "# fe.integrate()"
   ]
  },
  {
   "cell_type": "markdown",
   "metadata": {},
   "source": [
    "Notices that the simulation is not ran until the equilibrium but up to $T = 70000$. It is interrupted intentionally due to corrupted mesh quality.\n",
    "\n",
    "Notice that initial icosphere does not have constant mean curvature due to the existence of irregular points. The initial deformation comforms to the discretization defect. With the high curvature deformation, mesh quality deteriorates. To cope with the problem, please proceed to the next tutorial, where we introduce mesh regularization and mutation for adaptive meshing."
   ]
  }
 ],
 "metadata": {
  "kernelspec": {
   "display_name": "Python 3.10.5 ('pymem3dg')",
   "language": "python",
   "name": "python3"
  },
  "language_info": {
   "codemirror_mode": {
    "name": "ipython",
    "version": 3
   },
   "file_extension": ".py",
   "mimetype": "text/x-python",
   "name": "python",
   "nbconvert_exporter": "python",
   "pygments_lexer": "ipython3",
   "version": "3.10.5"
  },
  "vscode": {
   "interpreter": {
    "hash": "f3a6181206ca5e963636b0bacef5e7dd6e095289a05f91c07e5deb7fefc1deb1"
   }
  }
 },
 "nbformat": 4,
 "nbformat_minor": 2
}
