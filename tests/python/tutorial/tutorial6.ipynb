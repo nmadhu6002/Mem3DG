{
 "cells": [
  {
   "cell_type": "markdown",
   "metadata": {},
   "source": [
    "# PyMem3DG Tutorial 6 - Extended Applications 2: protein dynamics\n",
    "`Cuncheng Zhu, Christopher T. Lee`\n",
    "\n",
    "This tutorial covers how `Mem3DG` models protein dynamics. In previous tutorials, we have been focusing on the mechanics of membrane in response to current configuration and material properties, while the other side of the coin is the chemical response: how protein density $\\phi$ respond to the condition? \n",
    "\n",
    "Just as the mechanical force that drives the shape evolution, chemical potential drives the protein evolution. They are the shape variation and chemical variation of the free energy, respectively. The tutorial aims to provide the fundamental and practical API maniputation. Please refer to the documentation and publication for details of the theory. \n",
    "\n",
    "To demonstrate, this tutorial will model the protein evolution on a realistic dendritic spine model processed using GAMer(https://github.com/ctlee/gamer). Instead of evolving the shape of the geometry, we evolve the protein distribution on a given geometry. The dynamics of protein will be governed by curvature-sensing property of membrane-bound protein, in-plane diffusion of membrane protein, as well as out-of-plane protein-membrane adsorption. "
   ]
  },
  {
   "cell_type": "code",
   "execution_count": 4,
   "metadata": {},
   "outputs": [],
   "source": [
    "import pymem3dg as dg \n",
    "\n",
    "spine = \"../sample_meshes/boundarySpine.ply\"\n",
    "spineFace, spineVertex = dg.processSoup(spine)"
   ]
  },
  {
   "cell_type": "markdown",
   "metadata": {},
   "source": [
    "For a untreated mesh soup, it might need to be processed before solving using `Mem3DG`. For this purpose, built-in function `processSoup` helps by internally reconstructing the mesh, merging identical vertices and stripping faces with duplicated vertices. \n",
    "\n",
    "Since we are only interested in protein dynamics, we need to disable shape variation and enable protein variation. \n",
    "\n",
    "The initialization of protein density `protein0` should be between 0 and 1 to avoid evoking the interior penalty method used to contain the range of $\\phi$ during the simulation. \n",
    "\n",
    "The only boundary condition for protein density that current `Mem3DG` supports is the `\"pin\"` boundary condition, which keep the boundary constant as `protein0`.  "
   ]
  },
  {
   "cell_type": "code",
   "execution_count": 5,
   "metadata": {},
   "outputs": [
    {
     "name": "stdout",
     "output_type": "stream",
     "text": [
      "area_init = 6.15588\n",
      "vol_init = 0.663231\n",
      "Characteristic volume wrt to At = 0\n"
     ]
    }
   ],
   "source": [
    "p = dg.Parameters()\n",
    "\n",
    "p.variation.isShapeVariation = False\n",
    "p.variation.isProteinVariation = True\n",
    "p.boundary.proteinBoundaryCondition = \"pin\"\n",
    "p.bending.Kb = 8.22e-5\n",
    "p.bending.H0c = 10\n",
    "p.dirichlet.eta = p.bending.Kb\n",
    "p.adsorption.epsilon = -1e-3 \n",
    "p.proteinMobility = 1\n",
    "\n",
    "import numpy as np\n",
    "proteinDensity = np.ones(np.shape(spineVertex)[0]) * 0.1\n",
    "velocity = np.zeros(np.shape(spineVertex))\n",
    "g = dg.System(spineFace, spineVertex, proteinDensity, velocity, p)\n",
    "g.initialize(nMutation=0, ifMute=False)"
   ]
  },
  {
   "cell_type": "markdown",
   "metadata": {},
   "source": [
    "The additional parameters is `epsilon` and `Bc` that represents the unit binding energy $\\varepsilon$ and protein mobility compared to shape evolution. Since we do not model shape evolution, the speed can be set to 1 since the speed should reflected on the time step. The adsorption energy $E_a = \\varepsilon \\int_{\\mathcal{M}} \\phi~ dA$ represents the base level membrane-protein interaction. Normally $\\varepsilon$ is negative to reflect the fact the protein tend to spontaneously bind to membrane."
   ]
  },
  {
   "cell_type": "code",
   "execution_count": null,
   "metadata": {},
   "outputs": [
    {
     "ename": "",
     "evalue": "",
     "output_type": "error",
     "traceback": [
      "\u001b[1;31mThe Kernel crashed while executing code in the the current cell or a previous cell. Please review the code in the cell(s) to identify a possible cause of the failure. Click <a href='https://aka.ms/vscodeJupyterKernelCrash'>here</a> for more info. View Jupyter <a href='command:jupyter.viewOutput'>log</a> for further details."
     ]
    },
    {
     "ename": "",
     "evalue": "",
     "output_type": "error",
     "traceback": [
      "\u001b[1;31mCanceled future for execute_request message before replies were done"
     ]
    }
   ],
   "source": [
    "outputDir = \"output/tutorial6/traj/\"\n",
    "print(outputDir)\n",
    "fe = dg.Euler(system=g, \n",
    "            characteristicTimeStep=0.1,\n",
    "            totalTime=300,\n",
    "            savePeriod=30,\n",
    "            tolerance=1e-6,\n",
    "            outputDirectory=outputDir,\n",
    ")\n",
    "fe.ifPrintToConsole = True\n",
    "fe.ifOutputTrajFile = True\n",
    "# fe.integrate()"
   ]
  },
  {
   "cell_type": "markdown",
   "metadata": {},
   "source": [
    "The resultant trajectory snapshots at `T = 0, 6000, 51000 and 300000' with the colormap showing the protein density: \n",
    "\n",
    "<img src=\"output/tutorial6/screenshot_frame000000.png\" width=\"400\" height=\"200\">\n",
    "<img src=\"output/tutorial6/screenshot_frame000002.png\" width=\"400\" height=\"200\">\n",
    "<img src=\"output/tutorial6/screenshot_frame000017.png\" width=\"400\" height=\"200\">\n",
    "<img src=\"output/tutorial6/screenshot_frame000100.png\" width=\"400\" height=\"200\">\n"
   ]
  },
  {
   "cell_type": "code",
   "execution_count": 8,
   "metadata": {},
   "outputs": [
    {
     "ename": "AttributeError",
     "evalue": "'pymem3dg._core.System' object has no attribute 'computePhysicalForcing'",
     "output_type": "error",
     "traceback": [
      "\u001b[0;31m---------------------------------------------------------------------------\u001b[0m",
      "\u001b[0;31mAttributeError\u001b[0m                            Traceback (most recent call last)",
      "\u001b[1;32m/Users/cuncheng/Dev/Mem3DG/tests/python/tutorial/tutorial6.ipynb Cell 8\u001b[0m in \u001b[0;36m<cell line: 4>\u001b[0;34m()\u001b[0m\n\u001b[1;32m      <a href='vscode-notebook-cell:/Users/cuncheng/Dev/Mem3DG/tests/python/tutorial/tutorial6.ipynb#X10sZmlsZQ%3D%3D?line=1'>2</a>\u001b[0m \u001b[39mimport\u001b[39;00m \u001b[39mpolyscope\u001b[39;00m \u001b[39mas\u001b[39;00m \u001b[39mps\u001b[39;00m\n\u001b[1;32m      <a href='vscode-notebook-cell:/Users/cuncheng/Dev/Mem3DG/tests/python/tutorial/tutorial6.ipynb#X10sZmlsZQ%3D%3D?line=2'>3</a>\u001b[0m outputDir \u001b[39m=\u001b[39m \u001b[39m\"\u001b[39m\u001b[39moutput/tutorial6/traj/\u001b[39m\u001b[39m\"\u001b[39m\n\u001b[0;32m----> <a href='vscode-notebook-cell:/Users/cuncheng/Dev/Mem3DG/tests/python/tutorial/tutorial6.ipynb#X10sZmlsZQ%3D%3D?line=3'>4</a>\u001b[0m dg_vis\u001b[39m.\u001b[39;49manimate(outputDir\u001b[39m+\u001b[39;49m\u001b[39m\"\u001b[39;49m\u001b[39m/traj.nc\u001b[39;49m\u001b[39m\"\u001b[39;49m, parameters \u001b[39m=\u001b[39;49m p, meanCurvature \u001b[39m=\u001b[39;49m \u001b[39mTrue\u001b[39;49;00m, proteinDensity \u001b[39m=\u001b[39;49m \u001b[39mTrue\u001b[39;49;00m)\n\u001b[1;32m      <a href='vscode-notebook-cell:/Users/cuncheng/Dev/Mem3DG/tests/python/tutorial/tutorial6.ipynb#X10sZmlsZQ%3D%3D?line=4'>5</a>\u001b[0m ps\u001b[39m.\u001b[39mshow()\n",
      "File \u001b[0;32m~/Dev/Mem3DG/python_src/pymem3dg/visual.py:1023\u001b[0m, in \u001b[0;36manimate\u001b[0;34m(trajNc, **kwargs)\u001b[0m\n\u001b[1;32m   1020\u001b[0m         changed \u001b[39m=\u001b[39m \u001b[39mFalse\u001b[39;00m\n\u001b[1;32m   1021\u001b[0m         prevFrameInd \u001b[39m=\u001b[39m currFrameInd\n\u001b[0;32m-> 1023\u001b[0m show(trajNc)\n\u001b[1;32m   1024\u001b[0m ps\u001b[39m.\u001b[39mset_user_callback(callback)\n",
      "File \u001b[0;32m~/Dev/Mem3DG/python_src/pymem3dg/visual.py:974\u001b[0m, in \u001b[0;36manimate.<locals>.show\u001b[0;34m(trajNc)\u001b[0m\n\u001b[1;32m    972\u001b[0m psmesh\u001b[39m.\u001b[39madd_vector_quantity(\u001b[39m\"\u001b[39m\u001b[39mvelocity\u001b[39m\u001b[39m\"\u001b[39m, velocity)\n\u001b[1;32m    973\u001b[0m \u001b[39mif\u001b[39;00m buildSystem:\n\u001b[0;32m--> 974\u001b[0m     buildSystemAndAddQuantities(\n\u001b[1;32m    975\u001b[0m         psmesh,\n\u001b[1;32m    976\u001b[0m         trajNc,\n\u001b[1;32m    977\u001b[0m         frames[currFrameInd],\n\u001b[1;32m    978\u001b[0m         isPointwiseValue\u001b[39m=\u001b[39;49misPointwiseValue,\n\u001b[1;32m    979\u001b[0m         \u001b[39m*\u001b[39;49m\u001b[39m*\u001b[39;49mkwargs\n\u001b[1;32m    980\u001b[0m     )\n",
      "File \u001b[0;32m~/Dev/Mem3DG/python_src/pymem3dg/visual.py:725\u001b[0m, in \u001b[0;36mbuildSystemAndAddQuantities\u001b[0;34m(psMesh, trajNc, frame, isPointwiseValue, **kwargs)\u001b[0m\n\u001b[1;32m    723\u001b[0m     system \u001b[39m=\u001b[39m dg\u001b[39m.\u001b[39mSystem(trajNc, frame, parameters)\n\u001b[1;32m    724\u001b[0m     system\u001b[39m.\u001b[39minitialize(nMutation\u001b[39m=\u001b[39m\u001b[39m0\u001b[39m, ifMute\u001b[39m=\u001b[39m\u001b[39mTrue\u001b[39;00m)\n\u001b[0;32m--> 725\u001b[0m     system\u001b[39m.\u001b[39;49mcomputePhysicalForcing()\n\u001b[1;32m    726\u001b[0m \u001b[39melse\u001b[39;00m:\n\u001b[1;32m    727\u001b[0m     system \u001b[39m=\u001b[39m dg\u001b[39m.\u001b[39mSystem(trajNc, frame)\n",
      "\u001b[0;31mAttributeError\u001b[0m: 'pymem3dg._core.System' object has no attribute 'computePhysicalForcing'"
     ]
    }
   ],
   "source": [
    "import pymem3dg.visual as dg_vis\n",
    "import polyscope as ps\n",
    "outputDir = \"output/tutorial6/traj/\"\n",
    "dg_vis.animate(outputDir+\"/traj.nc\", parameters = p, meanCurvature = True, proteinDensity = True)\n",
    "ps.show()"
   ]
  },
  {
   "cell_type": "code",
   "execution_count": null,
   "metadata": {},
   "outputs": [],
   "source": []
  }
 ],
 "metadata": {
  "kernelspec": {
   "display_name": "Python 3.10.5 ('pymem3dg')",
   "language": "python",
   "name": "python3"
  },
  "language_info": {
   "codemirror_mode": {
    "name": "ipython",
    "version": 3
   },
   "file_extension": ".py",
   "mimetype": "text/x-python",
   "name": "python",
   "nbconvert_exporter": "python",
   "pygments_lexer": "ipython3",
   "version": "3.10.5"
  },
  "orig_nbformat": 4,
  "vscode": {
   "interpreter": {
    "hash": "f3a6181206ca5e963636b0bacef5e7dd6e095289a05f91c07e5deb7fefc1deb1"
   }
  }
 },
 "nbformat": 4,
 "nbformat_minor": 2
}
